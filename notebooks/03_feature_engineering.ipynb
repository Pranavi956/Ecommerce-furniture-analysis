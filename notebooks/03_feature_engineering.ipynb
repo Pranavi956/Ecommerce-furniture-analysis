{
 "cells": [
  {
   "cell_type": "code",
   "execution_count": 1,
   "id": "d21dbf5f",
   "metadata": {},
   "outputs": [],
   "source": [
    "import pandas as pd\n",
    "from sklearn.feature_extraction.text import TfidfVectorizer\n",
    "\n",
    "# Load original dataset\n",
    "df = pd.read_csv(\"../data/ecommerce_furniture_dataset_2024.csv\")\n",
    "\n",
    "# Clean price and drop originalPrice\n",
    "df['price'] = df['price'].replace(r'[$,]', '', regex=True).astype(float)\n",
    "df = df.drop(columns=['originalPrice'], errors='ignore')\n",
    "df['tagText'] = df['tagText'].fillna(\"Unknown\")\n"
   ]
  },
  {
   "cell_type": "code",
   "execution_count": 2,
   "id": "04ae128b",
   "metadata": {},
   "outputs": [],
   "source": [
    "from sklearn.preprocessing import LabelEncoder\n",
    "\n",
    "le = LabelEncoder()\n",
    "df['tagText'] = le.fit_transform(df['tagText'])\n"
   ]
  },
  {
   "cell_type": "code",
   "execution_count": null,
   "id": "9735f552",
   "metadata": {},
   "outputs": [],
   "source": []
  },
  {
   "cell_type": "code",
   "execution_count": 3,
   "id": "f6ed3b0f",
   "metadata": {},
   "outputs": [],
   "source": [
    "df['title_lower'] = df['productTitle'].str.lower()\n",
    "\n",
    "df['has_discount_words'] = df['title_lower'].apply(\n",
    "    lambda x: int(any(word in x for word in ['off', 'discount', 'save', 'sale']))\n",
    ")\n",
    "\n",
    "df.drop('title_lower', axis=1, inplace=True)\n"
   ]
  },
  {
   "cell_type": "code",
   "execution_count": 4,
   "id": "a8f6d7bd",
   "metadata": {},
   "outputs": [
    {
     "data": {
      "text/plain": [
       "has_discount_words\n",
       "0    1672\n",
       "1     328\n",
       "Name: count, dtype: int64"
      ]
     },
     "execution_count": 4,
     "metadata": {},
     "output_type": "execute_result"
    }
   ],
   "source": [
    "df['has_discount_words'].value_counts()\n"
   ]
  },
  {
   "cell_type": "code",
   "execution_count": 5,
   "id": "00244793",
   "metadata": {},
   "outputs": [
    {
     "data": {
      "text/plain": [
       "has_discount_words\n",
       "0    1672\n",
       "1     328\n",
       "Name: count, dtype: int64"
      ]
     },
     "execution_count": 5,
     "metadata": {},
     "output_type": "execute_result"
    }
   ],
   "source": [
    "df['has_discount_words'].value_counts()\n"
   ]
  },
  {
   "cell_type": "code",
   "execution_count": 6,
   "id": "62aa5447",
   "metadata": {},
   "outputs": [],
   "source": [
    "tfidf = TfidfVectorizer(max_features=100, stop_words='english')\n",
    "productTitle_tfidf = tfidf.fit_transform(df['productTitle'])\n",
    "\n",
    "tfidf_df = pd.DataFrame(productTitle_tfidf.toarray(), columns=tfidf.get_feature_names_out())\n",
    "df_final = pd.concat([df.drop('productTitle', axis=1).reset_index(drop=True), tfidf_df], axis=1)\n"
   ]
  },
  {
   "cell_type": "code",
   "execution_count": 7,
   "id": "30382582",
   "metadata": {},
   "outputs": [
    {
     "data": {
      "text/plain": [
       "(2000, 104)"
      ]
     },
     "execution_count": 7,
     "metadata": {},
     "output_type": "execute_result"
    }
   ],
   "source": [
    "df_final.shape\n"
   ]
  },
  {
   "cell_type": "code",
   "execution_count": 8,
   "id": "410dff34",
   "metadata": {},
   "outputs": [
    {
     "name": "stdout",
     "output_type": "stream",
     "text": [
      "Final dataset shape: (2000, 104)\n"
     ]
    },
    {
     "data": {
      "text/html": [
       "<div>\n",
       "<style scoped>\n",
       "    .dataframe tbody tr th:only-of-type {\n",
       "        vertical-align: middle;\n",
       "    }\n",
       "\n",
       "    .dataframe tbody tr th {\n",
       "        vertical-align: top;\n",
       "    }\n",
       "\n",
       "    .dataframe thead th {\n",
       "        text-align: right;\n",
       "    }\n",
       "</style>\n",
       "<table border=\"1\" class=\"dataframe\">\n",
       "  <thead>\n",
       "    <tr style=\"text-align: right;\">\n",
       "      <th></th>\n",
       "      <th>price</th>\n",
       "      <th>sold</th>\n",
       "      <th>tagText</th>\n",
       "      <th>has_discount_words</th>\n",
       "      <th>adjustable</th>\n",
       "      <th>bed</th>\n",
       "      <th>bedroom</th>\n",
       "      <th>bedside</th>\n",
       "      <th>bench</th>\n",
       "      <th>black</th>\n",
       "      <th>...</th>\n",
       "      <th>tables</th>\n",
       "      <th>tv</th>\n",
       "      <th>upholstered</th>\n",
       "      <th>vanity</th>\n",
       "      <th>velvet</th>\n",
       "      <th>wardrobe</th>\n",
       "      <th>white</th>\n",
       "      <th>wicker</th>\n",
       "      <th>wood</th>\n",
       "      <th>wooden</th>\n",
       "    </tr>\n",
       "  </thead>\n",
       "  <tbody>\n",
       "    <tr>\n",
       "      <th>0</th>\n",
       "      <td>46.79</td>\n",
       "      <td>600</td>\n",
       "      <td>99</td>\n",
       "      <td>0</td>\n",
       "      <td>0.0</td>\n",
       "      <td>0.0</td>\n",
       "      <td>0.209944</td>\n",
       "      <td>0.0</td>\n",
       "      <td>0.0</td>\n",
       "      <td>0.0</td>\n",
       "      <td>...</td>\n",
       "      <td>0.0</td>\n",
       "      <td>0.0</td>\n",
       "      <td>0.000000</td>\n",
       "      <td>0.0</td>\n",
       "      <td>0.0</td>\n",
       "      <td>0.332654</td>\n",
       "      <td>0.0</td>\n",
       "      <td>0.000000</td>\n",
       "      <td>0.0</td>\n",
       "      <td>0.000000</td>\n",
       "    </tr>\n",
       "    <tr>\n",
       "      <th>1</th>\n",
       "      <td>169.72</td>\n",
       "      <td>0</td>\n",
       "      <td>99</td>\n",
       "      <td>0</td>\n",
       "      <td>0.0</td>\n",
       "      <td>0.0</td>\n",
       "      <td>0.000000</td>\n",
       "      <td>0.0</td>\n",
       "      <td>0.0</td>\n",
       "      <td>0.0</td>\n",
       "      <td>...</td>\n",
       "      <td>0.0</td>\n",
       "      <td>0.0</td>\n",
       "      <td>0.000000</td>\n",
       "      <td>0.0</td>\n",
       "      <td>0.0</td>\n",
       "      <td>0.000000</td>\n",
       "      <td>0.0</td>\n",
       "      <td>0.300086</td>\n",
       "      <td>0.0</td>\n",
       "      <td>0.000000</td>\n",
       "    </tr>\n",
       "    <tr>\n",
       "      <th>2</th>\n",
       "      <td>39.46</td>\n",
       "      <td>7</td>\n",
       "      <td>99</td>\n",
       "      <td>0</td>\n",
       "      <td>0.0</td>\n",
       "      <td>0.0</td>\n",
       "      <td>0.224799</td>\n",
       "      <td>0.0</td>\n",
       "      <td>0.0</td>\n",
       "      <td>0.0</td>\n",
       "      <td>...</td>\n",
       "      <td>0.0</td>\n",
       "      <td>0.0</td>\n",
       "      <td>0.000000</td>\n",
       "      <td>0.0</td>\n",
       "      <td>0.0</td>\n",
       "      <td>0.000000</td>\n",
       "      <td>0.0</td>\n",
       "      <td>0.000000</td>\n",
       "      <td>0.0</td>\n",
       "      <td>0.000000</td>\n",
       "    </tr>\n",
       "    <tr>\n",
       "      <th>3</th>\n",
       "      <td>111.99</td>\n",
       "      <td>0</td>\n",
       "      <td>99</td>\n",
       "      <td>0</td>\n",
       "      <td>0.0</td>\n",
       "      <td>0.0</td>\n",
       "      <td>0.000000</td>\n",
       "      <td>0.0</td>\n",
       "      <td>0.0</td>\n",
       "      <td>0.0</td>\n",
       "      <td>...</td>\n",
       "      <td>0.0</td>\n",
       "      <td>0.0</td>\n",
       "      <td>0.344964</td>\n",
       "      <td>0.0</td>\n",
       "      <td>0.0</td>\n",
       "      <td>0.000000</td>\n",
       "      <td>0.0</td>\n",
       "      <td>0.000000</td>\n",
       "      <td>0.0</td>\n",
       "      <td>0.000000</td>\n",
       "    </tr>\n",
       "    <tr>\n",
       "      <th>4</th>\n",
       "      <td>21.37</td>\n",
       "      <td>1</td>\n",
       "      <td>99</td>\n",
       "      <td>0</td>\n",
       "      <td>0.0</td>\n",
       "      <td>0.0</td>\n",
       "      <td>0.000000</td>\n",
       "      <td>0.0</td>\n",
       "      <td>0.0</td>\n",
       "      <td>0.0</td>\n",
       "      <td>...</td>\n",
       "      <td>0.0</td>\n",
       "      <td>0.0</td>\n",
       "      <td>0.000000</td>\n",
       "      <td>0.0</td>\n",
       "      <td>0.0</td>\n",
       "      <td>0.000000</td>\n",
       "      <td>0.0</td>\n",
       "      <td>0.000000</td>\n",
       "      <td>0.0</td>\n",
       "      <td>0.551425</td>\n",
       "    </tr>\n",
       "  </tbody>\n",
       "</table>\n",
       "<p>5 rows × 104 columns</p>\n",
       "</div>"
      ],
      "text/plain": [
       "    price  sold  tagText  has_discount_words  adjustable  bed   bedroom  \\\n",
       "0   46.79   600       99                   0         0.0  0.0  0.209944   \n",
       "1  169.72     0       99                   0         0.0  0.0  0.000000   \n",
       "2   39.46     7       99                   0         0.0  0.0  0.224799   \n",
       "3  111.99     0       99                   0         0.0  0.0  0.000000   \n",
       "4   21.37     1       99                   0         0.0  0.0  0.000000   \n",
       "\n",
       "   bedside  bench  black  ...  tables   tv  upholstered  vanity  velvet  \\\n",
       "0      0.0    0.0    0.0  ...     0.0  0.0     0.000000     0.0     0.0   \n",
       "1      0.0    0.0    0.0  ...     0.0  0.0     0.000000     0.0     0.0   \n",
       "2      0.0    0.0    0.0  ...     0.0  0.0     0.000000     0.0     0.0   \n",
       "3      0.0    0.0    0.0  ...     0.0  0.0     0.344964     0.0     0.0   \n",
       "4      0.0    0.0    0.0  ...     0.0  0.0     0.000000     0.0     0.0   \n",
       "\n",
       "   wardrobe  white    wicker  wood    wooden  \n",
       "0  0.332654    0.0  0.000000   0.0  0.000000  \n",
       "1  0.000000    0.0  0.300086   0.0  0.000000  \n",
       "2  0.000000    0.0  0.000000   0.0  0.000000  \n",
       "3  0.000000    0.0  0.000000   0.0  0.000000  \n",
       "4  0.000000    0.0  0.000000   0.0  0.551425  \n",
       "\n",
       "[5 rows x 104 columns]"
      ]
     },
     "execution_count": 8,
     "metadata": {},
     "output_type": "execute_result"
    }
   ],
   "source": [
    "print(\"Final dataset shape:\", df_final.shape)\n",
    "df_final.head()\n"
   ]
  },
  {
   "cell_type": "code",
   "execution_count": null,
   "id": "f1e51eb4",
   "metadata": {},
   "outputs": [],
   "source": []
  }
 ],
 "metadata": {
  "kernelspec": {
   "display_name": "Python 3",
   "language": "python",
   "name": "python3"
  },
  "language_info": {
   "codemirror_mode": {
    "name": "ipython",
    "version": 3
   },
   "file_extension": ".py",
   "mimetype": "text/x-python",
   "name": "python",
   "nbconvert_exporter": "python",
   "pygments_lexer": "ipython3",
   "version": "3.13.4"
  }
 },
 "nbformat": 4,
 "nbformat_minor": 5
}
